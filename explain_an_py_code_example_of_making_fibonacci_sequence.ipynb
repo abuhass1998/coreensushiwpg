{
  "cells": [
    {
      "cell_type": "markdown",
      "metadata": {
        "id": "view-in-github",
        "colab_type": "text"
      },
      "source": [
        "<a href=\"https://colab.research.google.com/github/abuhass1998/coreensushiwpg/blob/main/explain_an_py_code_example_of_making_fibonacci_sequence.ipynb\" target=\"_parent\"><img src=\"https://colab.research.google.com/assets/colab-badge.svg\" alt=\"Open In Colab\"/></a>"
      ]
    },
    {
      "cell_type": "markdown",
      "source": [
        "**Here are a few ways to create a Fibonacci sequence in Python:**\n",
        "\n",
        "**1. Using a for loop:**"
      ],
      "metadata": {
        "id": "xjdB9uthqOdV"
      }
    },
    {
      "cell_type": "code",
      "source": [
        "def fibonacci_for(nterms):\n",
        "    \"\"\"Generates the Fibonacci sequence using a for loop.\"\"\"\n",
        "    n1, n2 = 0, 1\n",
        "    count = 0\n",
        "\n",
        "    if nterms <= 0:\n",
        "        print(\"Please enter a positive integer.\")\n",
        "    elif nterms == 1:\n",
        "        print(\"Fibonacci sequence upto\", nterms, \":\")\n",
        "        print(n1)\n",
        "    else:\n",
        "        print(\"Fibonacci sequence:\")\n",
        "        while count < nterms:\n",
        "            print(n1)\n",
        "            nth = n1 + n2\n",
        "            n1 = n2\n",
        "            n2 = nth\n",
        "            count += 1\n",
        "\n",
        "# Example usage:\n",
        "fibonacci_for(10)  # Print the first 10 Fibonacci numbers"
      ],
      "outputs": [],
      "execution_count": null,
      "metadata": {
        "id": "Jj1XyIzKqOdZ"
      }
    },
    {
      "cell_type": "markdown",
      "source": [
        "**2. Using a while loop:**"
      ],
      "metadata": {
        "id": "-1rA2OkiqOdb"
      }
    },
    {
      "cell_type": "code",
      "source": [
        "def fibonacci_while(nterms):\n",
        "    \"\"\"Generates the Fibonacci sequence using a while loop.\"\"\"\n",
        "    n1, n2 = 0, 1\n",
        "    count = 0\n",
        "\n",
        "    if nterms <= 0:\n",
        "        print(\"Please enter a positive integer.\")\n",
        "    elif nterms == 1:\n",
        "        print(\"Fibonacci sequence up to\", nterms, \":\")\n",
        "        print(n1)\n",
        "    else:\n",
        "        print(\"Fibonacci sequence:\")\n",
        "        while count < nterms:\n",
        "            print(n1)\n",
        "            # Update values for next iteration\n",
        "            nth = n1 + n2\n",
        "            n1 = n2\n",
        "            n2 = nth\n",
        "            count += 1\n",
        "\n",
        "# Example usage:\n",
        "fibonacci_while(10)  # Print the first 10 Fibonacci numbers"
      ],
      "outputs": [],
      "execution_count": null,
      "metadata": {
        "id": "jCcECsgJqOdb"
      }
    },
    {
      "cell_type": "markdown",
      "source": [
        "**3. Using recursion:**"
      ],
      "metadata": {
        "id": "sffs7xkXqOdc"
      }
    },
    {
      "cell_type": "code",
      "source": [
        "def fibonacci_recursion(n):\n",
        "    \"\"\"Generates the Fibonacci sequence using recursion.\"\"\"\n",
        "    if n <= 1:\n",
        "        return n\n",
        "    else:\n",
        "        return fibonacci_recursion(n - 1) + fibonacci_recursion(n - 2)\n",
        "\n",
        "# Example usage:\n",
        "for i in range(10):\n",
        "    print(fibonacci_recursion(i))  # Print the first 10 Fibonacci numbers"
      ],
      "outputs": [],
      "execution_count": null,
      "metadata": {
        "id": "VoB4UUN-qOdc"
      }
    },
    {
      "cell_type": "markdown",
      "source": [
        "**Key points:**\n",
        "\n",
        "- **Base cases:** Handle the first two numbers (0 and 1) as the starting point for the sequence.\n",
        "- **Iterative approaches:** Use either a `for` loop or a `while` loop to generate the sequence incrementally.\n",
        "- **Recursive approach:** Breaks the problem down into smaller subproblems by calling itself repeatedly, but can be less efficient for larger sequences.\n",
        "- **Error handling:** Include checks for invalid input (e.g., negative numbers) to ensure robustness.\n",
        "- **Clarity:** Add comments to explain the code's logic and make it easier to understand."
      ],
      "metadata": {
        "id": "bSVhbm4jqOdc"
      }
    },
    {
      "cell_type": "markdown",
      "source": [
        "<div class=\"md-recitation\">\n",
        "  Sources\n",
        "  <ol>\n",
        "  <li><a href=\"https://www.scribd.com/document/496812886/Python-and-SQL-programs\">https://www.scribd.com/document/496812886/Python-and-SQL-programs</a></li>\n",
        "  </ol>\n",
        "</div>"
      ],
      "metadata": {
        "id": "B1v1U2oyqOdd"
      }
    },
    {
      "cell_type": "code",
      "source": [
        "\n",
        "# Here's the Python code using the GitHub API to retrieve and rank the top 10 open autopilot projects by forks:\n",
        "\n",
        "# Python\n",
        "import requests\n",
        "\n",
        "# Set your personal access token as an environment variable\n",
        "GITHUB_TOKEN = os.environ.get(\"GITHUB_TOKEN\")\n",
        "\n",
        "# Base URL for GitHub API search\n",
        "base_url = f\"https://api.github.com/search/repositories?q=autopilot+open+in:name&sort=forks&order=desc\"\n",
        "\n",
        "# Headers for authentication\n",
        "headers = {\"Authorization\": f\"token {GITHUB_TOKEN}\"}\n",
        "\n",
        "# Send the GET request to the API\n",
        "response = requests.get(base_url, headers=headers)\n",
        "\n",
        "# Check for successful response\n",
        "if response.status_code == 200:\n",
        "    data = response.json()\n",
        "    top_projects = data[\"items\"][:10]  # Get the top 10 results\n",
        "\n",
        "    # Print the results in a formatted way\n",
        "    print(\"Top 10 Popular Open Autopilot Projects on GitHub (by Forks):\")\n",
        "    for i, project in enumerate(top_projects, start=1):\n",
        "        print(f\"{i}. {project['name']} - {project['forks_count']} Forks - {project['html_url']}\")\n",
        "else:\n",
        "    print(\"Error: Could not retrieve data from GitHub API.\")\n",
        "\n",
        "\n",
        "# Key points:\n",
        "# Authentication: Replace GITHUB_TOKEN with your personal access token (https://github.com/settings/tokens).\n",
        "# Query: The q=autopilot+open+in:name query searches for repositories with \"autopilot\" and \"open\" in their names.\n",
        "# Sorting: The sort=forks&order=desc parameters sort the results by forks count in descending order.\n",
        "# Error handling: The code checks for a successful response from the API and handles potential errors.\n",
        "# Output: The results are printed in a clear format with project name, forks count, and URL.\n",
        "# To use the code:\n",
        "# Install the requests library: pip install requests\n",
        "# Set your GitHub API token as an environment variable.\n",
        "# Run the Python script.\n",
        "# -\n",
        "# Here's the Python code that retrieves and lists the top 10 popular open autocoding projects on GitHub, ranked by forks number:\n",
        "\n",
        "import requests\n",
        "\n",
        "# GitHub API endpoint for searching repositories\n",
        "url = \"https://api.github.com/search/repositories\"\n",
        "\n",
        "# Query parameters for searching open autocoding projects, sorting by forks, and limiting to 10 results\n",
        "params = {\n",
        "    \"q\": \"autocoding language:python is:public\",\n",
        "    \"sort\": \"forks\",\n",
        "    \"order\": \"desc\",\n",
        "    \"per_page\": 10\n",
        "}\n",
        "\n",
        "# Make the API request\n",
        "response = requests.get(url, params=params)\n",
        "\n",
        "# Check for successful response\n",
        "response.raise_for_status()\n",
        "\n",
        "# Parse the JSON response\n",
        "data = response.json()\n",
        "\n",
        "# Extract the top 10 repositories and their fork counts\n",
        "top_10_projects = [\n",
        "    (repo[\"name\"], repo[\"forks_count\"])\n",
        "    for repo in data[\"items\"]\n",
        "]\n",
        "\n",
        "# Print the list in a user-friendly format\n",
        "print(\"Top 10 Popular Open Autocoding Projects on GitHub (by Forks):\")\n",
        "for i, (name, forks) in enumerate(top_10_projects, start=1):\n",
        "    print(f\"{i}. {name} - Forks: {forks}\")\n",
        "\n",
        "\n",
        "# To use this code:\n",
        "# Install the requests library:\n",
        "# Bash\n",
        "pip install requests\n",
        "\n",
        "\n",
        "# Save the code as a Python file (e.g., github_autocoding_search.py).\n",
        "# Run the file:\n",
        "# Bash\n",
        "python github_autocoding_search.py\n",
        "\n",
        "\n",
        "# Note:\n",
        "T# his code relies on the GitHub API, so an internet connection is required.\n",
        "# You may adjust the q parameter in the params dictionary to refine your search terms.\n",
        "# For more advanced usage, refer to the GitHub API documentation: https://docs.github.com/en/rest\n"
      ],
      "metadata": {
        "id": "_PmahJeTquWK"
      },
      "execution_count": null,
      "outputs": []
    }
  ],
  "metadata": {
    "colab": {
      "provenance": [],
      "include_colab_link": true
    },
    "kernelspec": {
      "display_name": "Python 3",
      "name": "python3"
    }
  },
  "nbformat": 4,
  "nbformat_minor": 0
}